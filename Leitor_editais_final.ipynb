{
  "cells": [
    {
      "cell_type": "markdown",
      "metadata": {
        "id": "lPKBxfV7UYPe"
      },
      "source": [
        "#Instalando as bibliotecas"
      ]
    },
    {
      "cell_type": "code",
      "execution_count": 31,
      "metadata": {
        "colab": {
          "base_uri": "https://localhost:8080/"
        },
        "id": "SJLxwR8hCV3C",
        "outputId": "c60ad30c-27bd-40dc-a9a0-6f24cabcc887"
      },
      "outputs": [
        {
          "name": "stdout",
          "output_type": "stream",
          "text": [
            "Requirement already satisfied: pypdf2 in c:\\users\\roberto\\appdata\\local\\programs\\python\\python311\\lib\\site-packages (3.0.1)\n",
            "Note: you may need to restart the kernel to use updated packages.\n"
          ]
        },
        {
          "name": "stderr",
          "output_type": "stream",
          "text": [
            "\n",
            "[notice] A new release of pip is available: 23.1 -> 23.2.1\n",
            "[notice] To update, run: python.exe -m pip install --upgrade pip\n"
          ]
        }
      ],
      "source": [
        "pip install pypdf2"
      ]
    },
    {
      "cell_type": "code",
      "execution_count": 32,
      "metadata": {
        "colab": {
          "base_uri": "https://localhost:8080/"
        },
        "id": "P_bmIwIg9rTK",
        "outputId": "aa7bc846-b624-4893-8d04-54aa7cbcb308"
      },
      "outputs": [
        {
          "name": "stdout",
          "output_type": "stream",
          "text": [
            "Requirement already satisfied: reportlab in c:\\users\\roberto\\appdata\\local\\programs\\python\\python311\\lib\\site-packages (4.0.4)\n",
            "Requirement already satisfied: pillow>=9.0.0 in c:\\users\\roberto\\appdata\\local\\programs\\python\\python311\\lib\\site-packages (from reportlab) (9.5.0)\n",
            "Note: you may need to restart the kernel to use updated packages.\n"
          ]
        },
        {
          "name": "stderr",
          "output_type": "stream",
          "text": [
            "\n",
            "[notice] A new release of pip is available: 23.1 -> 23.2.1\n",
            "[notice] To update, run: python.exe -m pip install --upgrade pip\n"
          ]
        }
      ],
      "source": [
        "pip install reportlab"
      ]
    },
    {
      "cell_type": "code",
      "execution_count": 33,
      "metadata": {
        "id": "H-6b9YMVFLsx"
      },
      "outputs": [],
      "source": [
        "import re\n",
        "import PyPDF2"
      ]
    },
    {
      "cell_type": "markdown",
      "metadata": {
        "id": "D60FRVLBUc9G"
      },
      "source": [
        "#Extaindo o texto"
      ]
    },
    {
      "cell_type": "code",
      "execution_count": 34,
      "metadata": {
        "id": "qbmeQcoHrasy"
      },
      "outputs": [],
      "source": [
        "#extração do texto usando a função PdfReader e separando o conteúdo das páginas\n",
        "#passa-se o nome do arquivo pdf\n",
        "pdf = PyPDF2.PdfReader(\"edital-conc-077-2023-site.pdf\")\n",
        "number_of_pages = len(pdf.pages)\n",
        "pages = []\n",
        "for page in range(number_of_pages):\n",
        "  page = pdf.pages[page]\n",
        "  page_text = page.extract_text()\n",
        "  pages.append(page_text)"
      ]
    },
    {
      "cell_type": "code",
      "execution_count": 35,
      "metadata": {
        "id": "XZl35ULMbuEH"
      },
      "outputs": [],
      "source": [
        "#colocando todo o texto em uma unica string\n",
        "total_text = \"\"\n",
        "for page in pages:\n",
        "  total_text += page"
      ]
    },
    {
      "cell_type": "markdown",
      "metadata": {
        "id": "lW6jHSEAUhIq"
      },
      "source": [
        "#Encontrando o tipo de edital\n"
      ]
    },
    {
      "cell_type": "code",
      "execution_count": 36,
      "metadata": {
        "colab": {
          "base_uri": "https://localhost:8080/"
        },
        "id": "wfV-EH9t8IKe",
        "outputId": "10b34621-62a7-4935-c0b2-9a90bbabfad2"
      },
      "outputs": [
        {
          "name": "stdout",
          "output_type": "stream",
          "text": [
            "CONCORRÊNCIA Nº. 077/2023\n"
          ]
        }
      ],
      "source": [
        "#funçao para encontrar as linhas em que o tipo de edital está presente\n",
        "def encontrar_tipos_de_edital(texto, tipos_possiveis):\n",
        "    linhas_encontradas = []\n",
        "    linhas = texto.split(\"\\n\")\n",
        "\n",
        "    for idx, linha in enumerate(linhas):\n",
        "        for tipo in tipos_possiveis:\n",
        "            if tipo in linha.lower():\n",
        "                linhas_encontradas.append((linha))\n",
        "                break\n",
        "\n",
        "    return linhas_encontradas\n",
        "\n",
        "#funçao para encontrar a string do tipo de edital\n",
        "def encontrar_nome_tipo(texto, tipos_possiveis):\n",
        "    for tipo in tipos_possiveis:\n",
        "        if tipo in texto.lower():\n",
        "            return tipo\n",
        "\n",
        "#lista dos tipos de editais possiveis\n",
        "tipos_possiveis = [\"concorrência\", \"carta convite\", \"tomada de preços\", \"pregão eletrônico\", \"pregão presencial\", \"dispensa de licitação\"]\n",
        "\n",
        "#chamada das funções passando a primeira pagina e a lista de tipos como parametro\n",
        "linhas_encontradas = encontrar_tipos_de_edital(pages[0], tipos_possiveis)\n",
        "tipo = encontrar_nome_tipo(pages[0], tipos_possiveis)\n",
        "\n",
        "#laço de repetição que percorre as linhas encontradas que tinham o tipo do edital\n",
        "#procura o indice do tipo para porcurar o numero dele e retornar o tipo_edital\n",
        "for linha in linhas_encontradas:\n",
        "  linha_corrigida = \" \".join(linha.split())\n",
        "  if (tipo.strip() + \" n\") in linha_corrigida.lower():\n",
        "    a = linha_corrigida.lower().find(tipo)\n",
        "    tipo_edital = linha_corrigida[a::]\n",
        "print(tipo_edital)"
      ]
    },
    {
      "cell_type": "markdown",
      "metadata": {
        "id": "DkJE0qP10l31"
      },
      "source": [
        "#Encontrando o objeto"
      ]
    },
    {
      "cell_type": "code",
      "execution_count": 37,
      "metadata": {
        "colab": {
          "base_uri": "https://localhost:8080/"
        },
        "id": "PrFd8Cs6aYVr",
        "outputId": "f58cb724-8a24-4ef6-b6a6-c9e6ae562700"
      },
      "outputs": [],
      "source": [
        "# padrao da expressão regular\n",
        "padrao_objeto = r\"contratação[^.]*\\.\"\n",
        "\n",
        "#cria uma lista com as correspondecias a partir do padrao criado\n",
        "correspondencias = re.findall(padrao_objeto, pages[0], re.IGNORECASE)\n",
        "\n",
        "if correspondencias: #se a lista nao estiver vazia, correspondencia recebe o primeiro elemento da lista\n",
        "    correspondencia = correspondencias[0]\n",
        "\n",
        "    #remove quebras de linha e espaços em branco\n",
        "    correspondencia_sem_quebras = correspondencia.replace(\"\\n\", \"\").strip()\n",
        "\n",
        "    #encontra a posição de \"PB\" na string\n",
        "    posicao_pb = correspondencia_sem_quebras.find(\"PB\")\n",
        "    \n",
        "    #verifica se \"PB\" foi encontrado e salva o conteudo em objeto\n",
        "    if posicao_pb != -1:\n",
        "        objeto = correspondencia_sem_quebras[:posicao_pb+2]\n",
        "        print(objeto)\n",
        "else:\n",
        "    objeto = \"Nenhum objeto encontrado.\"\n",
        "    print(objeto)"
      ]
    },
    {
      "cell_type": "markdown",
      "metadata": {
        "id": "1nAZsXkbiGQP"
      },
      "source": [
        "#Encontrando a cidade"
      ]
    },
    {
      "cell_type": "code",
      "execution_count": 38,
      "metadata": {
        "colab": {
          "base_uri": "https://localhost:8080/"
        },
        "id": "KRUnHdaiFLs0",
        "outputId": "5744884e-9ce4-4204-fe43-c143ad4148e9"
      },
      "outputs": [
        {
          "name": "stdout",
          "output_type": "stream",
          "text": [
            "João Pessoa/PB\n"
          ]
        }
      ],
      "source": [
        "#criando o padrao para achar o nome da cidade\n",
        "padrao_cidade = r\"\\b[A-Z][a-zA-Záéíóúãõâêîôûàèìòù\\s]+/[A-Z]{2}\\b\"\n",
        "\n",
        "#busca das apariçoes desse padrao\n",
        "aparicoes = re.findall(padrao_cidade, total_text)\n",
        "\n",
        "#laço de repetiçao para retirar os espaços extras da string\n",
        "aparicoes_corrigidas = []\n",
        "for a in aparicoes:\n",
        "  a = \" \".join(a.split())\n",
        "  aparicoes_corrigidas.append(a)\n",
        "\n",
        "#verifica se a lista está vazia\n",
        "if not aparicoes_corrigidas:\n",
        "  nome_cidade = \"Não encontrado\"\n",
        "\n",
        "#se o tamanho da lista for igual a 1, procura-se o \" de \",\n",
        "#pois geralmente o nome da cidade esta precedido por \"prefeitura municipal de\" ou \"cidade de\"\n",
        "#e salva o nome da cidade\n",
        "if (len(aparicoes_corrigidas) == 1):\n",
        "  a = aparicoes_corrigidas[0].lower().find(\" de \")\n",
        "  nome_cidade = aparicoes_corrigidas[0][a+4::]\n",
        "\n",
        "#se todas as aparicoes forem iguais, salva o primeiro elemento da lista\n",
        "elif all(elem == aparicoes_corrigidas[0] for elem in aparicoes_corrigidas):\n",
        "    nome_cidade = aparicoes_corrigidas[0]\n",
        "\n",
        "#se estiver em alguma outra posição da lista, procura se o \" de \", com o mesmo proposito anterior\n",
        "else:\n",
        "  for aparicao in aparicoes_corrigidas:\n",
        "    if \" de \" in aparicao.lower():\n",
        "      a = aparicao.lower().find(\" de \")\n",
        "      aparicao_corrigida = aparicao[a+4::]\n",
        "      nome_cidade = aparicao_corrigida\n",
        "      break\n",
        "print(nome_cidade)\n"
      ]
    },
    {
      "cell_type": "markdown",
      "metadata": {
        "id": "7wz1131QVFNT"
      },
      "source": [
        "#Encontrando o valor"
      ]
    },
    {
      "cell_type": "code",
      "execution_count": 39,
      "metadata": {
        "colab": {
          "base_uri": "https://localhost:8080/"
        },
        "id": "T7UIIduPVMMB",
        "outputId": "1cb91e3b-c169-4cbb-e5e1-a420bcd28e8e"
      },
      "outputs": [
        {
          "name": "stdout",
          "output_type": "stream",
          "text": [
            "R$ 5.813.431,65 (Cinco milhões, oitocentos e treze mil, quatrocentos e trinta e um reais e sessenta e cinco centavos)\n"
          ]
        }
      ],
      "source": [
        "#cria o padrao para achar o valor\n",
        "padrao_valor = r'R\\$ [\\d.,]+\\s+\\([^)]+\\)'\n",
        "\n",
        "#busca as apariçoes a partir do padrao\n",
        "aparicoes = re.search(padrao_valor, total_text)\n",
        "\n",
        "#verifica se a lista esta vazia\n",
        "if not aparicoes:\n",
        "  valor = \"Valor nao declarado\"\n",
        "\n",
        "#pega a primeira aparição do valor e troca o \"new line\" por um espaço vazio\n",
        "else:\n",
        "  valor = aparicoes[0].replace(\"\\n\", \"\")\n",
        "  valor = ' '.join(valor.split())\n",
        "\n",
        "print(valor)"
      ]
    },
    {
      "cell_type": "markdown",
      "metadata": {
        "id": "1JGfR3UkzzEJ"
      },
      "source": [
        "#Encontrando os anexos"
      ]
    },
    {
      "cell_type": "code",
      "execution_count": 40,
      "metadata": {
        "colab": {
          "base_uri": "https://localhost:8080/"
        },
        "id": "TwWF0-_6HKE5",
        "outputId": "05e85faf-3b16-4fe3-8b6e-f99ec277f4cf"
      },
      "outputs": [
        {
          "name": "stdout",
          "output_type": "stream",
          "text": [
            "Minuta de contrato\n",
            "Modelo de proposta\n",
            "Modelo de Declaração relativa à proibição do trabalho do menor (Lei nº 9.854/99)\n",
            "Modelo de Declaração de que recebeu to dos os documentos pertinentes à licitação e de que tomou conhecimento\n",
            "Modelo de Declaração de Microempresa, de empresa de pequeno porte, ou de coop erativa enquadrada no art. 34 da\n",
            "Modelo do Quadro de Composição da Taxa de BDI\n",
            "Modelo do Quadro de Composição da Taxa de Encargos Sociais\n",
            "Modelo de credenciamento\n",
            "Modelo de declaração comprometendo -se a empregar 10%, em relação ao total dos empregados, da mão de obra\n",
            "Projeto Básico:\n",
            "Modelo de declaração comprometendo -se a empregar 5% do total de vagas existentes na contratação da obra desta\n",
            "Modelo de declaração de adoção da taxa de BDI do órg ão licitante. Substitui o ANEXO 6\n",
            "Declaração de superveniência de fato impeditivo de habilitação para as licitantes cadastradas\n",
            "Quadro de Pessoal Técnico\n",
            "Modelo de Declaração de não relação de parentesco vedada pelo Inciso III do Art. 1º da Lei nº 8.124/2006\n",
            "Modelo de declaração de adoção do Projeto de Gerenciamento de Resíduo de Construção Civil – PGRCC, nas\n",
            "Modelo de Decla ração de Vistoria\n",
            "Exigências Técnicas.\n",
            "QUADRO DE PESSOAL TÉCNICO (MODELO), declarando de que manterá\n",
            "DECLARAÇÃO DA VISITA AO LOCAL DA\n",
            "TIPO: MENOR PREÇO\n"
          ]
        }
      ],
      "source": [
        "#funçao para extrair os anexos\n",
        "def extrai_anexos(pdf_text):\n",
        "  #cria o padrao para os anexos\n",
        "  padrao_anexo = r'Anexo\\s+(\\w+)\\s*[-–]\\s*([^;]+)'\n",
        "\n",
        "  #separa o texto em linhas\n",
        "  lines = pdf_text.split('\\n')\n",
        "\n",
        "  #laço de repetiçao pegar o nome dos anexos\n",
        "  anexos = []\n",
        "  for line in lines:\n",
        "    match = re.search(padrao_anexo, line, re.IGNORECASE)\n",
        "    if match:\n",
        "      nome_anexo = match.group(2).strip()\n",
        "      anexos.append(nome_anexo)\n",
        "  return anexos\n",
        "\n",
        "anexos = extrai_anexos(total_text)\n",
        "for anexo in anexos:\n",
        "    print(anexo)"
      ]
    },
    {
      "cell_type": "code",
      "execution_count": 41,
      "metadata": {
        "id": "hdJNHTIO5UE1"
      },
      "outputs": [],
      "source": [
        "#concatena os elementos de anexo em uma string, separando-os por \";\"\n",
        "string_anexos = \"; \".join([s for s in anexos])"
      ]
    },
    {
      "cell_type": "markdown",
      "metadata": {
        "id": "Ci_RnhUT1Yo9"
      },
      "source": [
        "#Gerando o resumo\n"
      ]
    },
    {
      "cell_type": "code",
      "execution_count": 42,
      "metadata": {
        "colab": {
          "base_uri": "https://localhost:8080/"
        },
        "id": "VZ7cVDNM1bpM",
        "outputId": "12081d7c-1f53-41b7-b7cf-c23cb97ed0e7"
      },
      "outputs": [
        {
          "name": "stdout",
          "output_type": "stream",
          "text": [
            "Edital de licitação na modalidade CONCORRÊNCIA Nº. 077/2023, cujo objeto trata-se da Contratação de uma empresa de engenharia para a Execução de Serviços de Pavimentação com Capeamento Asfáltico (CBUQ) em 43 Ruas/Avenidas, nos bairros: Aeroclube, Água Fria, Alto do Céu, Bairro dos Estados, Bairro dos Ipês, Brisamar, Castelo Branco, Colibris, Costa e Silva, Cristo Redentor, Cruz das Armas, Cuiá e Distrito Industrial – Lote 01,  na Cidade de João Pessoa/PB,\n",
            "no município de João Pessoa/PB. Acompanham o edital os seguintes documentos: planilha orçamentária, com valor global de R$ 5.813.431,65 (Cinco milhões, oitocentos e treze mil, quatrocentos e trinta e um reais e sessenta e cinco centavos),\n",
            "Minuta de contrato; Modelo de proposta; Modelo de Declaração relativa à proibição do trabalho do menor (Lei nº 9.854/99); Modelo de Declaração de que recebeu to dos os documentos pertinentes à licitação e de que tomou conhecimento; Modelo de Declaração de Microempresa, de empresa de pequeno porte, ou de coop erativa enquadrada no art. 34 da; Modelo do Quadro de Composição da Taxa de BDI; Modelo do Quadro de Composição da Taxa de Encargos Sociais; Modelo de credenciamento; Modelo de declaração comprometendo -se a empregar 10%, em relação ao total dos empregados, da mão de obra; Projeto Básico:; Modelo de declaração comprometendo -se a empregar 5% do total de vagas existentes na contratação da obra desta; Modelo de declaração de adoção da taxa de BDI do órg ão licitante. Substitui o ANEXO 6; Declaração de superveniência de fato impeditivo de habilitação para as licitantes cadastradas; Quadro de Pessoal Técnico; Modelo de Declaração de não relação de parentesco vedada pelo Inciso III do Art. 1º da Lei nº 8.124/2006; Modelo de declaração de adoção do Projeto de Gerenciamento de Resíduo de Construção Civil – PGRCC, nas; Modelo de Decla ração de Vistoria; Exigências Técnicas.; QUADRO DE PESSOAL TÉCNICO (MODELO), declarando de que manterá; DECLARAÇÃO DA VISITA AO LOCAL DA; TIPO: MENOR PREÇO.\n"
          ]
        }
      ],
      "source": [
        "resumo = f\"Edital de licitação na modalidade {tipo_edital}, cujo objeto trata-se da {objeto},\\nno município de {nome_cidade}. Acompanham o edital os seguintes documentos: planilha orçamentária, com valor global de {valor},\\n{string_anexos}.\"\n",
        "print(resumo)"
      ]
    },
    {
      "cell_type": "markdown",
      "metadata": {
        "id": "pYXTx26W9jab"
      },
      "source": [
        "#Extra\n"
      ]
    },
    {
      "cell_type": "markdown",
      "metadata": {
        "id": "V5FQIJdG-vUJ"
      },
      "source": [
        "Gerado completamente pelo ChatGPT, apenas por curiosidade"
      ]
    },
    {
      "cell_type": "code",
      "execution_count": 43,
      "metadata": {
        "id": "1gYRAWkW6JHs"
      },
      "outputs": [],
      "source": [
        "from reportlab.lib.pagesizes import letter\n",
        "from reportlab.pdfgen import canvas\n",
        "\n",
        "def generate_pdf(file_name, content):\n",
        "    c = canvas.Canvas(file_name, pagesize=letter)\n",
        "    width, height = letter\n",
        "\n",
        "    words = content.split(' ')\n",
        "    y_position = height - 100\n",
        "\n",
        "    current_line = \"\"\n",
        "    for word in words:\n",
        "        if len(current_line) + len(word) <= 80:  # Verifica se a próxima palavra cabe na linha atual\n",
        "            if current_line:\n",
        "                current_line += \" \" + word\n",
        "            else:\n",
        "                current_line = word\n",
        "        else:\n",
        "            c.drawString(100, y_position, current_line)\n",
        "            y_position -= 15\n",
        "            current_line = word\n",
        "\n",
        "    if current_line:\n",
        "        c.drawString(100, y_position, current_line)\n",
        "\n",
        "    c.showPage()\n",
        "    c.save()\n",
        "\n",
        "generate_pdf(f\"Resumo.pdf\", resumo)"
      ]
    }
  ],
  "metadata": {
    "colab": {
      "provenance": []
    },
    "kernelspec": {
      "display_name": "Python 3",
      "name": "python3"
    },
    "language_info": {
      "codemirror_mode": {
        "name": "ipython",
        "version": 3
      },
      "file_extension": ".py",
      "mimetype": "text/x-python",
      "name": "python",
      "nbconvert_exporter": "python",
      "pygments_lexer": "ipython3",
      "version": "3.11.3"
    }
  },
  "nbformat": 4,
  "nbformat_minor": 0
}
