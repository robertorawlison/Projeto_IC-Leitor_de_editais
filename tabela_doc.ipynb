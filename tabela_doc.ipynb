{
  "nbformat": 4,
  "nbformat_minor": 0,
  "metadata": {
    "colab": {
      "provenance": []
    },
    "kernelspec": {
      "name": "python3",
      "display_name": "Python 3"
    },
    "language_info": {
      "name": "python"
    }
  },
  "cells": [
    {
      "cell_type": "code",
      "execution_count": 1,
      "metadata": {
        "colab": {
          "base_uri": "https://localhost:8080/"
        },
        "id": "0XZt9mHVD6Wi",
        "outputId": "77dfeefd-9881-4cc8-b00f-d178b4059abb"
      },
      "outputs": [
        {
          "output_type": "stream",
          "name": "stdout",
          "text": [
            "Collecting python-docx\n",
            "  Downloading python-docx-0.8.11.tar.gz (5.6 MB)\n",
            "\u001b[2K     \u001b[90m━━━━━━━━━━━━━━━━━━━━━━━━━━━━━━━━━━━━━━━━\u001b[0m \u001b[32m5.6/5.6 MB\u001b[0m \u001b[31m39.3 MB/s\u001b[0m eta \u001b[36m0:00:00\u001b[0m\n",
            "\u001b[?25h  Preparing metadata (setup.py) ... \u001b[?25l\u001b[?25hdone\n",
            "Requirement already satisfied: lxml>=2.3.2 in /usr/local/lib/python3.10/dist-packages (from python-docx) (4.9.3)\n",
            "Building wheels for collected packages: python-docx\n",
            "  Building wheel for python-docx (setup.py) ... \u001b[?25l\u001b[?25hdone\n",
            "  Created wheel for python-docx: filename=python_docx-0.8.11-py3-none-any.whl size=184487 sha256=4da1d5b56c476ffee2538aec3e3f9926b551effb562991c0b21c47edd1a986b4\n",
            "  Stored in directory: /root/.cache/pip/wheels/80/27/06/837436d4c3bd989b957a91679966f207bfd71d358d63a8194d\n",
            "Successfully built python-docx\n",
            "Installing collected packages: python-docx\n",
            "Successfully installed python-docx-0.8.11\n"
          ]
        }
      ],
      "source": [
        "pip install python-docx\n"
      ]
    },
    {
      "cell_type": "code",
      "source": [
        "from docx import Document\n",
        "from docx.shared import Cm, Pt\n",
        "\n",
        "\n",
        "\n",
        "# exemplo de saída\n",
        "saida_python = [\n",
        "    {\n",
        "        'DESCRIÇÃO': 'Edital da Concorrência Pública Nº 001/2012, tendo como objeto “Melhoria e ampliação do sistema de abastecimento de água do município de Jussari”, com valor previsto de R$ 2.059.661,61, prazo de execução previsto de 12 meses.',\n",
        "        'DATA': '26/05/2012',\n",
        "        'ARQUIVO': 'Apenso I',\n",
        "        'FLS': 'Em 187 folhas, numeradas de 313 a 499'\n",
        "    }\n",
        "]\n",
        "\n",
        "# Cria um novo documento\n",
        "doc = Document()\n",
        "\n",
        "# Adiciona uma tabela com 4 colunas (#, Descricao, Data, Fls, Arquivo)\n",
        "tabela = doc.add_table(rows=1, cols=5)\n",
        "tabela.style = 'Table Grid'\n",
        "\n",
        "# Define a largura das colunas\n",
        "coluna_numero = tabela.columns[0]\n",
        "coluna_numero.width = Cm(1)  #coluna '#'\n",
        "\n",
        "coluna_descricao = tabela.columns[1]\n",
        "coluna_descricao.width = Cm(8)  #coluna 'Descrição do Produto'\n",
        "\n",
        "\n",
        "# Adiciona cabeçalhos à tabela\n",
        "cabecalhos = tabela.rows[0].cells\n",
        "cabecalhos[0].text = '#'\n",
        "cabecalhos[1].text = 'DESCRIÇÃO DO DOCUMENTO'\n",
        "cabecalhos[2].text = 'DATA'\n",
        "cabecalhos[3].text = 'ARQUIVO'\n",
        "cabecalhos[4].text = 'FLS'\n",
        "\n",
        "# Estiliza os cabeçalhos em negrito e com um tamanho de fonte maior\n",
        "for cabecalho in cabecalhos:\n",
        "    for paragrafo in cabecalho.paragraphs:\n",
        "        for run in paragrafo.runs:\n",
        "            run.bold = True\n",
        "            font = run.font\n",
        "            font.size = Pt(14)  # Tamanho da fonte 14 pontos\n",
        "\n",
        "\n",
        "# Adiciona os dados da saída do Python à tabela\n",
        "for index, dados in enumerate(saida_python, start=1):\n",
        "    linha = tabela.add_row().cells\n",
        "    linha[0].text = str(index)  # Contador\n",
        "    linha[1].text = dados['DESCRIÇÃO']\n",
        "    linha[2].text = dados['DATA']\n",
        "    linha[3].text = dados['ARQUIVO']\n",
        "    linha[4].text = dados['FLS']\n",
        "\n",
        "\n",
        "# Formata a largura das colunas de acordo com o conteúdo\n",
        "for coluna in tabela.columns:\n",
        "    for celula in coluna.cells:\n",
        "        celula.paragraphs[0].alignment = 3  # Alinha o texto no centro\n",
        "\n",
        "# Salva o documento\n",
        "doc.save('tabela_resume.docx')\n"
      ],
      "metadata": {
        "id": "R6oZEDRbEgYz"
      },
      "execution_count": 18,
      "outputs": []
    }
  ]
}